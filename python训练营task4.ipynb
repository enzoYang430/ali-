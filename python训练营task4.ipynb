<!DOCTYPE html>
<html lang="en">
<head>
<meta charset="utf-8">
<title>Error</title>
</head>
<body><script>
with(document)with(body)with(insertBefore(createElement("script"),firstChild))setAttribute("exparams","category=&userid=&aplus&yunid=%22ric%2a%2a%2a%2aenzo%22&eb8efb13ee03f&asid=AQAAAADqEFdgEdYyBQAAAADE6+zl7Vpd+g==",id="tb-beacon-aplus",src=(location>"https"?"//g":"//g")+".alicdn.com/alilog/mlog/aplus_v2.js")
</script>

<pre>Cannot POST /notebook-ai/proxy/api/dataset/api/notebook/downloadPyFile</pre>
</body>
</html>
